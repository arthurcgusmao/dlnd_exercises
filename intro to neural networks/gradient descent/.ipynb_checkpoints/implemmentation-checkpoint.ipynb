{
 "cells": [
  {
   "cell_type": "markdown",
   "metadata": {
    "ein.tags": [
     "worksheet-0"
    ],
    "slideshow": {
     "slide_type": "-"
    }
   },
   "source": [
    "# Gradient descent implemmentation\n",
    "\n",
    "In this exercise I'll implement gradient descent using data from [a network on\n",
    "graduate school admissions](http://www.ats.ucla.edu/stat/data/binary.csv).\n",
    "\n",
    "First, we start by doing data cleanup:"
   ]
  },
  {
   "cell_type": "code",
   "execution_count": 3,
   "metadata": {
    "autoscroll": "json-false",
    "collapsed": false,
    "ein.tags": [
     "worksheet-0"
    ],
    "slideshow": {
     "slide_type": "-"
    }
   },
   "outputs": [
    {
     "data": {
      "text/plain": [
       "            admit         gre         gpa      rank_1      rank_2      rank_3  \\\n",
       "count  360.000000  360.000000  360.000000  360.000000  360.000000  360.000000   \n",
       "mean     0.325000    0.019430    0.002307    0.158333    0.366667    0.302778   \n",
       "std      0.469027    0.996139    0.988946    0.365561    0.482565    0.460099   \n",
       "min      0.000000   -3.183094   -2.968993    0.000000    0.000000    0.000000   \n",
       "25%      0.000000   -0.586063   -0.689498    0.000000    0.000000    0.000000   \n",
       "50%      0.000000   -0.066657    0.026539    0.000000    0.000000    0.000000   \n",
       "75%      1.000000    0.799020    0.736008    0.000000    1.000000    1.000000   \n",
       "max      1.000000    1.837832    1.603135    1.000000    1.000000    1.000000   \n",
       "\n",
       "           rank_4  \n",
       "count  360.000000  \n",
       "mean     0.172222  \n",
       "std      0.378099  \n",
       "min      0.000000  \n",
       "25%      0.000000  \n",
       "50%      0.000000  \n",
       "75%      0.000000  \n",
       "max      1.000000  "
      ]
     },
     "execution_count": 3,
     "metadata": {},
     "output_type": "execute_result"
    }
   ],
   "source": [
    "import numpy as np\n",
    "import pandas as pd\n",
    "\n",
    "admissions = pd.read_csv('binary.csv')\n",
    "\n",
    "# Make dummy variables for rank\n",
    "data = pd.concat([admissions, pd.get_dummies(admissions['rank'],\n",
    "                                             prefix='rank')], axis=1)\n",
    "data = data.drop('rank', axis=1)\n",
    "\n",
    "# Standarize features\n",
    "for field in ['gre', 'gpa']:\n",
    "    mean, std = data[field].mean(), data[field].std()\n",
    "    data.loc[:,field] = (data[field]-mean)/std\n",
    "    \n",
    "    # Split off random 10% of the data for testing\n",
    "np.random.seed(42)\n",
    "sample = np.random.choice(data.index, size=int(len(data)*0.9), replace=False)\n",
    "data, test_data = data.ix[sample], data.drop(sample)\n",
    "\n",
    "# Split into features and targets\n",
    "features, targets = data.drop('admit', axis=1), data['admit']\n",
    "features_test, targets_test = test_data.drop('admit', axis=1), test_data['admit']"
   ]
  },
  {
   "cell_type": "markdown",
   "metadata": {
    "ein.tags": [
     "worksheet-0"
    ],
    "slideshow": {
     "slide_type": "-"
    }
   },
   "source": []
  }
 ],
 "metadata": {
  "anaconda-cloud": {},
  "kernelspec": {
   "display_name": "Python [conda root]",
   "name": "conda-root-py"
  },
  "language_info": {
   "codemirror_mode": {
    "name": "ipython",
    "version": 2
   },
   "file_extension": ".py",
   "mimetype": "text/x-python",
   "name": "python",
   "nbconvert_exporter": "python",
   "pygments_lexer": "ipython2",
   "version": "2.7.12"
  },
  "name": "implemmentation.ipynb"
 },
 "nbformat": 4,
 "nbformat_minor": 2
}
